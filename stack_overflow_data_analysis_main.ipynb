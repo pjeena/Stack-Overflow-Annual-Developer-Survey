{
 "cells": [
  {
   "cell_type": "markdown",
   "id": "72dc03f0",
   "metadata": {},
   "source": [
    "# Stack Overflow Annual Developer Survey"
   ]
  },
  {
   "cell_type": "markdown",
   "id": "708827ab",
   "metadata": {},
   "source": [
    "This notebook covers the data analysis of the ataset containing responses to an annual survey conducted by StackOverflow. The datset can be found on this link : https://insights.stackoverflow.com/survey. \n",
    "\n",
    "The data set is the complete results of the 2022 Stack Overflow Developer Survey. Free response submissions and personally-identifying information have been removed from the results to protect the privacy of respondents. There are two files :\n",
    "\n",
    "1. **survey_results_public.csv** - CSV file with main survey results, one respondent per row and one column per answer\n",
    "2. **survey_results_schema.csv** - CSV file with survey schema, i.e., the questions that correspond to each column name\n",
    "\n",
    "The survey was fielded from May 11, 2022 to June 1, 2022. The median time spent on the survey for qualified responses was 15.08 minutes.\n",
    "\n",
    "Respondents were recruited primarily through channels owned by Stack Overflow. The top 5 sources of respondents were onsite messaging, blog posts, email lists, Meta posts, banner ads, and social media posts. Since respondents were recruited in this way, highly engaged users on Stack Overflow were more likely to notice the links for the survey and click to begin it."
   ]
  },
  {
   "cell_type": "markdown",
   "id": "7141f4f4",
   "metadata": {},
   "source": [
    "## 1. Importing libraries"
   ]
  },
  {
   "cell_type": "code",
   "execution_count": 180,
   "id": "ad021851",
   "metadata": {},
   "outputs": [],
   "source": [
    "import numpy as np\n",
    "import pandas as pd\n",
    "import matplotlib.pyplot as plt\n",
    "import seaborn as sns\n",
    "sns.set_style(\"darkgrid\")"
   ]
  },
  {
   "cell_type": "markdown",
   "id": "e9ab7922",
   "metadata": {},
   "source": [
    "## 2. Loading data"
   ]
  },
  {
   "cell_type": "code",
   "execution_count": 165,
   "id": "2057c0db",
   "metadata": {},
   "outputs": [],
   "source": [
    "survey_df = pd.read_csv('survey_results_public.csv')\n",
    "schema_df = pd.read_csv('survey_results_schema.csv')"
   ]
  },
  {
   "cell_type": "markdown",
   "id": "413bc4df",
   "metadata": {},
   "source": [
    "## 3. Data preparation and cleaning "
   ]
  },
  {
   "cell_type": "code",
   "execution_count": 166,
   "id": "5797a67e",
   "metadata": {},
   "outputs": [
    {
     "data": {
      "text/html": [
       "<div>\n",
       "<style scoped>\n",
       "    .dataframe tbody tr th:only-of-type {\n",
       "        vertical-align: middle;\n",
       "    }\n",
       "\n",
       "    .dataframe tbody tr th {\n",
       "        vertical-align: top;\n",
       "    }\n",
       "\n",
       "    .dataframe thead th {\n",
       "        text-align: right;\n",
       "    }\n",
       "</style>\n",
       "<table border=\"1\" class=\"dataframe\">\n",
       "  <thead>\n",
       "    <tr style=\"text-align: right;\">\n",
       "      <th></th>\n",
       "      <th>ResponseId</th>\n",
       "      <th>MainBranch</th>\n",
       "      <th>Employment</th>\n",
       "      <th>RemoteWork</th>\n",
       "      <th>CodingActivities</th>\n",
       "      <th>EdLevel</th>\n",
       "      <th>LearnCode</th>\n",
       "      <th>LearnCodeOnline</th>\n",
       "      <th>LearnCodeCoursesCert</th>\n",
       "      <th>YearsCode</th>\n",
       "      <th>...</th>\n",
       "      <th>TimeSearching</th>\n",
       "      <th>TimeAnswering</th>\n",
       "      <th>Onboarding</th>\n",
       "      <th>ProfessionalTech</th>\n",
       "      <th>TrueFalse_1</th>\n",
       "      <th>TrueFalse_2</th>\n",
       "      <th>TrueFalse_3</th>\n",
       "      <th>SurveyLength</th>\n",
       "      <th>SurveyEase</th>\n",
       "      <th>ConvertedCompYearly</th>\n",
       "    </tr>\n",
       "  </thead>\n",
       "  <tbody>\n",
       "    <tr>\n",
       "      <th>0</th>\n",
       "      <td>1</td>\n",
       "      <td>None of these</td>\n",
       "      <td>NaN</td>\n",
       "      <td>NaN</td>\n",
       "      <td>NaN</td>\n",
       "      <td>NaN</td>\n",
       "      <td>NaN</td>\n",
       "      <td>NaN</td>\n",
       "      <td>NaN</td>\n",
       "      <td>NaN</td>\n",
       "      <td>...</td>\n",
       "      <td>NaN</td>\n",
       "      <td>NaN</td>\n",
       "      <td>NaN</td>\n",
       "      <td>NaN</td>\n",
       "      <td>NaN</td>\n",
       "      <td>NaN</td>\n",
       "      <td>NaN</td>\n",
       "      <td>NaN</td>\n",
       "      <td>NaN</td>\n",
       "      <td>NaN</td>\n",
       "    </tr>\n",
       "    <tr>\n",
       "      <th>1</th>\n",
       "      <td>2</td>\n",
       "      <td>I am a developer by profession</td>\n",
       "      <td>Employed, full-time</td>\n",
       "      <td>Fully remote</td>\n",
       "      <td>Hobby;Contribute to open-source projects</td>\n",
       "      <td>NaN</td>\n",
       "      <td>NaN</td>\n",
       "      <td>NaN</td>\n",
       "      <td>NaN</td>\n",
       "      <td>NaN</td>\n",
       "      <td>...</td>\n",
       "      <td>NaN</td>\n",
       "      <td>NaN</td>\n",
       "      <td>NaN</td>\n",
       "      <td>NaN</td>\n",
       "      <td>NaN</td>\n",
       "      <td>NaN</td>\n",
       "      <td>NaN</td>\n",
       "      <td>Too long</td>\n",
       "      <td>Difficult</td>\n",
       "      <td>NaN</td>\n",
       "    </tr>\n",
       "    <tr>\n",
       "      <th>2</th>\n",
       "      <td>3</td>\n",
       "      <td>I am not primarily a developer, but I write co...</td>\n",
       "      <td>Employed, full-time</td>\n",
       "      <td>Hybrid (some remote, some in-person)</td>\n",
       "      <td>Hobby</td>\n",
       "      <td>Master’s degree (M.A., M.S., M.Eng., MBA, etc.)</td>\n",
       "      <td>Books / Physical media;Friend or family member...</td>\n",
       "      <td>Technical documentation;Blogs;Programming Game...</td>\n",
       "      <td>NaN</td>\n",
       "      <td>14</td>\n",
       "      <td>...</td>\n",
       "      <td>NaN</td>\n",
       "      <td>NaN</td>\n",
       "      <td>NaN</td>\n",
       "      <td>NaN</td>\n",
       "      <td>NaN</td>\n",
       "      <td>NaN</td>\n",
       "      <td>NaN</td>\n",
       "      <td>Appropriate in length</td>\n",
       "      <td>Neither easy nor difficult</td>\n",
       "      <td>40205.0</td>\n",
       "    </tr>\n",
       "    <tr>\n",
       "      <th>3</th>\n",
       "      <td>4</td>\n",
       "      <td>I am a developer by profession</td>\n",
       "      <td>Employed, full-time</td>\n",
       "      <td>Fully remote</td>\n",
       "      <td>I don’t code outside of work</td>\n",
       "      <td>Bachelor’s degree (B.A., B.S., B.Eng., etc.)</td>\n",
       "      <td>Books / Physical media;School (i.e., Universit...</td>\n",
       "      <td>NaN</td>\n",
       "      <td>NaN</td>\n",
       "      <td>20</td>\n",
       "      <td>...</td>\n",
       "      <td>NaN</td>\n",
       "      <td>NaN</td>\n",
       "      <td>NaN</td>\n",
       "      <td>NaN</td>\n",
       "      <td>NaN</td>\n",
       "      <td>NaN</td>\n",
       "      <td>NaN</td>\n",
       "      <td>Appropriate in length</td>\n",
       "      <td>Easy</td>\n",
       "      <td>215232.0</td>\n",
       "    </tr>\n",
       "    <tr>\n",
       "      <th>4</th>\n",
       "      <td>5</td>\n",
       "      <td>I am a developer by profession</td>\n",
       "      <td>Employed, full-time</td>\n",
       "      <td>Hybrid (some remote, some in-person)</td>\n",
       "      <td>Hobby</td>\n",
       "      <td>Bachelor’s degree (B.A., B.S., B.Eng., etc.)</td>\n",
       "      <td>Other online resources (e.g., videos, blogs, f...</td>\n",
       "      <td>Technical documentation;Blogs;Stack Overflow;O...</td>\n",
       "      <td>NaN</td>\n",
       "      <td>8</td>\n",
       "      <td>...</td>\n",
       "      <td>NaN</td>\n",
       "      <td>NaN</td>\n",
       "      <td>NaN</td>\n",
       "      <td>NaN</td>\n",
       "      <td>NaN</td>\n",
       "      <td>NaN</td>\n",
       "      <td>NaN</td>\n",
       "      <td>Too long</td>\n",
       "      <td>Easy</td>\n",
       "      <td>NaN</td>\n",
       "    </tr>\n",
       "  </tbody>\n",
       "</table>\n",
       "<p>5 rows × 79 columns</p>\n",
       "</div>"
      ],
      "text/plain": [
       "   ResponseId                                         MainBranch  \\\n",
       "0           1                                      None of these   \n",
       "1           2                     I am a developer by profession   \n",
       "2           3  I am not primarily a developer, but I write co...   \n",
       "3           4                     I am a developer by profession   \n",
       "4           5                     I am a developer by profession   \n",
       "\n",
       "            Employment                            RemoteWork  \\\n",
       "0                  NaN                                   NaN   \n",
       "1  Employed, full-time                          Fully remote   \n",
       "2  Employed, full-time  Hybrid (some remote, some in-person)   \n",
       "3  Employed, full-time                          Fully remote   \n",
       "4  Employed, full-time  Hybrid (some remote, some in-person)   \n",
       "\n",
       "                           CodingActivities  \\\n",
       "0                                       NaN   \n",
       "1  Hobby;Contribute to open-source projects   \n",
       "2                                     Hobby   \n",
       "3              I don’t code outside of work   \n",
       "4                                     Hobby   \n",
       "\n",
       "                                           EdLevel  \\\n",
       "0                                              NaN   \n",
       "1                                              NaN   \n",
       "2  Master’s degree (M.A., M.S., M.Eng., MBA, etc.)   \n",
       "3     Bachelor’s degree (B.A., B.S., B.Eng., etc.)   \n",
       "4     Bachelor’s degree (B.A., B.S., B.Eng., etc.)   \n",
       "\n",
       "                                           LearnCode  \\\n",
       "0                                                NaN   \n",
       "1                                                NaN   \n",
       "2  Books / Physical media;Friend or family member...   \n",
       "3  Books / Physical media;School (i.e., Universit...   \n",
       "4  Other online resources (e.g., videos, blogs, f...   \n",
       "\n",
       "                                     LearnCodeOnline LearnCodeCoursesCert  \\\n",
       "0                                                NaN                  NaN   \n",
       "1                                                NaN                  NaN   \n",
       "2  Technical documentation;Blogs;Programming Game...                  NaN   \n",
       "3                                                NaN                  NaN   \n",
       "4  Technical documentation;Blogs;Stack Overflow;O...                  NaN   \n",
       "\n",
       "  YearsCode  ... TimeSearching TimeAnswering Onboarding ProfessionalTech  \\\n",
       "0       NaN  ...           NaN           NaN        NaN              NaN   \n",
       "1       NaN  ...           NaN           NaN        NaN              NaN   \n",
       "2        14  ...           NaN           NaN        NaN              NaN   \n",
       "3        20  ...           NaN           NaN        NaN              NaN   \n",
       "4         8  ...           NaN           NaN        NaN              NaN   \n",
       "\n",
       "  TrueFalse_1 TrueFalse_2 TrueFalse_3           SurveyLength  \\\n",
       "0         NaN         NaN         NaN                    NaN   \n",
       "1         NaN         NaN         NaN               Too long   \n",
       "2         NaN         NaN         NaN  Appropriate in length   \n",
       "3         NaN         NaN         NaN  Appropriate in length   \n",
       "4         NaN         NaN         NaN               Too long   \n",
       "\n",
       "                   SurveyEase ConvertedCompYearly  \n",
       "0                         NaN                 NaN  \n",
       "1                   Difficult                 NaN  \n",
       "2  Neither easy nor difficult             40205.0  \n",
       "3                        Easy            215232.0  \n",
       "4                        Easy                 NaN  \n",
       "\n",
       "[5 rows x 79 columns]"
      ]
     },
     "execution_count": 166,
     "metadata": {},
     "output_type": "execute_result"
    }
   ],
   "source": [
    "survey_df.head()"
   ]
  },
  {
   "cell_type": "code",
   "execution_count": 167,
   "id": "68339cb4",
   "metadata": {},
   "outputs": [
    {
     "data": {
      "text/plain": [
       "Index(['ResponseId', 'MainBranch', 'Employment', 'RemoteWork',\n",
       "       'CodingActivities', 'EdLevel', 'LearnCode', 'LearnCodeOnline',\n",
       "       'LearnCodeCoursesCert', 'YearsCode', 'YearsCodePro', 'DevType',\n",
       "       'OrgSize', 'PurchaseInfluence', 'BuyNewTool', 'Country', 'Currency',\n",
       "       'CompTotal', 'CompFreq', 'LanguageHaveWorkedWith',\n",
       "       'LanguageWantToWorkWith', 'DatabaseHaveWorkedWith',\n",
       "       'DatabaseWantToWorkWith', 'PlatformHaveWorkedWith',\n",
       "       'PlatformWantToWorkWith', 'WebframeHaveWorkedWith',\n",
       "       'WebframeWantToWorkWith', 'MiscTechHaveWorkedWith',\n",
       "       'MiscTechWantToWorkWith', 'ToolsTechHaveWorkedWith',\n",
       "       'ToolsTechWantToWorkWith', 'NEWCollabToolsHaveWorkedWith',\n",
       "       'NEWCollabToolsWantToWorkWith', 'OpSysProfessional use',\n",
       "       'OpSysPersonal use', 'VersionControlSystem', 'VCInteraction',\n",
       "       'VCHostingPersonal use', 'VCHostingProfessional use',\n",
       "       'OfficeStackAsyncHaveWorkedWith', 'OfficeStackAsyncWantToWorkWith',\n",
       "       'OfficeStackSyncHaveWorkedWith', 'OfficeStackSyncWantToWorkWith',\n",
       "       'Blockchain', 'NEWSOSites', 'SOVisitFreq', 'SOAccount', 'SOPartFreq',\n",
       "       'SOComm', 'Age', 'Gender', 'Trans', 'Sexuality', 'Ethnicity',\n",
       "       'Accessibility', 'MentalHealth', 'TBranch', 'ICorPM', 'WorkExp',\n",
       "       'Knowledge_1', 'Knowledge_2', 'Knowledge_3', 'Knowledge_4',\n",
       "       'Knowledge_5', 'Knowledge_6', 'Knowledge_7', 'Frequency_1',\n",
       "       'Frequency_2', 'Frequency_3', 'TimeSearching', 'TimeAnswering',\n",
       "       'Onboarding', 'ProfessionalTech', 'TrueFalse_1', 'TrueFalse_2',\n",
       "       'TrueFalse_3', 'SurveyLength', 'SurveyEase', 'ConvertedCompYearly'],\n",
       "      dtype='object')"
      ]
     },
     "execution_count": 167,
     "metadata": {},
     "output_type": "execute_result"
    }
   ],
   "source": [
    " survey_df.columns"
   ]
  },
  {
   "cell_type": "code",
   "execution_count": 168,
   "id": "b7185d94",
   "metadata": {},
   "outputs": [],
   "source": [
    "schema_df.set_index('qname',inplace=True)"
   ]
  },
  {
   "cell_type": "code",
   "execution_count": 169,
   "id": "b092013b",
   "metadata": {},
   "outputs": [],
   "source": [
    "schema_df.drop(['qid','force_resp','type', 'selector'], axis=1, inplace=True)"
   ]
  },
  {
   "cell_type": "code",
   "execution_count": 170,
   "id": "c0619e0b",
   "metadata": {},
   "outputs": [],
   "source": [
    "schema_df = schema_df.question"
   ]
  },
  {
   "cell_type": "code",
   "execution_count": 171,
   "id": "b396520e",
   "metadata": {},
   "outputs": [
    {
     "data": {
      "text/plain": [
       "Index(['ResponseId', 'MainBranch', 'Employment', 'RemoteWork',\n",
       "       'CodingActivities', 'EdLevel', 'LearnCode', 'LearnCodeOnline',\n",
       "       'LearnCodeCoursesCert', 'YearsCode', 'YearsCodePro', 'DevType',\n",
       "       'OrgSize', 'PurchaseInfluence', 'BuyNewTool', 'Country', 'Currency',\n",
       "       'CompTotal', 'CompFreq', 'LanguageHaveWorkedWith',\n",
       "       'LanguageWantToWorkWith', 'DatabaseHaveWorkedWith',\n",
       "       'DatabaseWantToWorkWith', 'PlatformHaveWorkedWith',\n",
       "       'PlatformWantToWorkWith', 'WebframeHaveWorkedWith',\n",
       "       'WebframeWantToWorkWith', 'MiscTechHaveWorkedWith',\n",
       "       'MiscTechWantToWorkWith', 'ToolsTechHaveWorkedWith',\n",
       "       'ToolsTechWantToWorkWith', 'NEWCollabToolsHaveWorkedWith',\n",
       "       'NEWCollabToolsWantToWorkWith', 'OpSysProfessional use',\n",
       "       'OpSysPersonal use', 'VersionControlSystem', 'VCInteraction',\n",
       "       'VCHostingPersonal use', 'VCHostingProfessional use',\n",
       "       'OfficeStackAsyncHaveWorkedWith', 'OfficeStackAsyncWantToWorkWith',\n",
       "       'OfficeStackSyncHaveWorkedWith', 'OfficeStackSyncWantToWorkWith',\n",
       "       'Blockchain', 'NEWSOSites', 'SOVisitFreq', 'SOAccount', 'SOPartFreq',\n",
       "       'SOComm', 'Age', 'Gender', 'Trans', 'Sexuality', 'Ethnicity',\n",
       "       'Accessibility', 'MentalHealth', 'TBranch', 'ICorPM', 'WorkExp',\n",
       "       'Knowledge_1', 'Knowledge_2', 'Knowledge_3', 'Knowledge_4',\n",
       "       'Knowledge_5', 'Knowledge_6', 'Knowledge_7', 'Frequency_1',\n",
       "       'Frequency_2', 'Frequency_3', 'TimeSearching', 'TimeAnswering',\n",
       "       'Onboarding', 'ProfessionalTech', 'TrueFalse_1', 'TrueFalse_2',\n",
       "       'TrueFalse_3', 'SurveyLength', 'SurveyEase', 'ConvertedCompYearly'],\n",
       "      dtype='object')"
      ]
     },
     "execution_count": 171,
     "metadata": {},
     "output_type": "execute_result"
    }
   ],
   "source": [
    "survey_df.columns"
   ]
  },
  {
   "cell_type": "code",
   "execution_count": 172,
   "id": "ac59ed58",
   "metadata": {},
   "outputs": [],
   "source": [
    "columns_of_interest = [\n",
    "    # Demographics\n",
    "    'Country',\n",
    "    'Age',\n",
    "    'Gender',\n",
    "    'EdLevel',\n",
    "    # Programming experience,\n",
    "    'CodingActivities',\n",
    "    'YearsCode',\n",
    "    'YearsCodePro',\n",
    "    'LanguageHaveWorkedWith',\n",
    "    'LanguageWantToWorkWith',\n",
    "    'DatabaseHaveWorkedWith',\n",
    "    'DatabaseWantToWorkWith',\n",
    "    'PlatformHaveWorkedWith',\n",
    "    'PlatformWantToWorkWith',\n",
    "    'WebframeHaveWorkedWith',\n",
    "    'WebframeWantToWorkWith',\n",
    "    'NEWCollabToolsHaveWorkedWith',\n",
    "    'NEWCollabToolsWantToWorkWith',\n",
    "    # Employment\n",
    "    'Employment',\n",
    "    'RemoteWork',\n",
    "    'DevType',\n",
    "    'OrgSize',\n",
    "]"
   ]
  },
  {
   "cell_type": "code",
   "execution_count": 173,
   "id": "1277194f",
   "metadata": {},
   "outputs": [],
   "source": [
    "survey_df = survey_df[columns_of_interest]"
   ]
  },
  {
   "cell_type": "code",
   "execution_count": 198,
   "id": "4d2d750b",
   "metadata": {},
   "outputs": [
    {
     "data": {
      "text/plain": [
       "United States of America                                13543\n",
       "India                                                    6639\n",
       "Germany                                                  5395\n",
       "United Kingdom of Great Britain and Northern Ireland     4190\n",
       "Canada                                                   2490\n",
       "France                                                   2328\n",
       "Brazil                                                   2109\n",
       "Poland                                                   1732\n",
       "Netherlands                                              1555\n",
       "Spain                                                    1521\n",
       "Italy                                                    1514\n",
       "Australia                                                1462\n",
       "Russian Federation                                       1229\n",
       "Turkey                                                   1020\n",
       "Sweden                                                   1020\n",
       "Switzerland                                               932\n",
       "Name: Country, dtype: int64"
      ]
     },
     "execution_count": 198,
     "metadata": {},
     "output_type": "execute_result"
    }
   ],
   "source": [
    "survey_df['Country'].value_counts().head(15)"
   ]
  },
  {
   "cell_type": "code",
   "execution_count": null,
   "id": "c239c8a6",
   "metadata": {},
   "outputs": [],
   "source": []
  },
  {
   "cell_type": "code",
   "execution_count": null,
   "id": "2611f0fd",
   "metadata": {},
   "outputs": [],
   "source": []
  },
  {
   "cell_type": "code",
   "execution_count": 200,
   "id": "09118f22",
   "metadata": {},
   "outputs": [
    {
     "data": {
      "text/plain": [
       "United States of America                                13543\n",
       "India                                                    6639\n",
       "Germany                                                  5395\n",
       "United Kingdom of Great Britain and Northern Ireland     4190\n",
       "Canada                                                   2490\n",
       "France                                                   2328\n",
       "Brazil                                                   2109\n",
       "Poland                                                   1732\n",
       "Netherlands                                              1555\n",
       "Spain                                                    1521\n",
       "Italy                                                    1514\n",
       "Australia                                                1462\n",
       "Russian Federation                                       1229\n",
       "Turkey                                                   1020\n",
       "Sweden                                                   1020\n",
       "Name: Country, dtype: int64"
      ]
     },
     "execution_count": 200,
     "metadata": {},
     "output_type": "execute_result"
    }
   ],
   "source": [
    "top_15_countries = survey_df['Country'].value_counts().head(15)\n",
    "top_15_countries"
   ]
  },
  {
   "cell_type": "code",
   "execution_count": 217,
   "id": "8694c54c",
   "metadata": {},
   "outputs": [
    {
     "data": {
      "text/plain": [
       "<AxesSubplot:title={'center':'Where do you live?'}, ylabel='Country'>"
      ]
     },
     "execution_count": 217,
     "metadata": {},
     "output_type": "execute_result"
    },
    {
     "data": {
      "image/png": "[encoded data removed]",
      "text/plain": [
       "<Figure size 864x432 with 1 Axes>"
      ]
     },
     "metadata": {},
     "output_type": "display_data"
    }
   ],
   "source": [
    "plt.figure(figsize=(12,6))\n",
    "plt.xticks(rotation=75)\n",
    "plt.title(schema_df['Country'][0:18])\n",
    "sns.barplot(x= top_15_countries.index , y = top_15_countries)"
   ]
  },
  {
   "cell_type": "code",
   "execution_count": 226,
   "id": "9844db0a",
   "metadata": {},
   "outputs": [
    {
     "data": {
      "text/plain": [
       "Country                          1497\n",
       "Age                              2322\n",
       "Gender                           2415\n",
       "EdLevel                          1697\n",
       "CodingActivities                14369\n",
       "YearsCode                        1937\n",
       "YearsCodePro                    21435\n",
       "LanguageHaveWorkedWith           2293\n",
       "LanguageWantToWorkWith           6241\n",
       "DatabaseHaveWorkedWith          13147\n",
       "DatabaseWantToWorkWith          22254\n",
       "PlatformHaveWorkedWith          23344\n",
       "PlatformWantToWorkWith          32853\n",
       "WebframeHaveWorkedWith          19724\n",
       "WebframeWantToWorkWith          27146\n",
       "NEWCollabToolsHaveWorkedWith     2921\n",
       "NEWCollabToolsWantToWorkWith     9160\n",
       "Employment                       1559\n",
       "RemoteWork                      14310\n",
       "DevType                         11966\n",
       "OrgSize                         22229\n",
       "dtype: int64"
      ]
     },
     "execution_count": 226,
     "metadata": {},
     "output_type": "execute_result"
    }
   ],
   "source": [
    "survey_df.isna().sum()"
   ]
  },
  {
   "cell_type": "code",
   "execution_count": 227,
   "id": "b08d24b0",
   "metadata": {},
   "outputs": [
    {
     "name": "stdout",
     "output_type": "stream",
     "text": [
      "<class 'pandas.core.frame.DataFrame'>\n",
      "RangeIndex: 73268 entries, 0 to 73267\n",
      "Data columns (total 21 columns):\n",
      " #   Column                        Non-Null Count  Dtype \n",
      "---  ------                        --------------  ----- \n",
      " 0   Country                       71771 non-null  object\n",
      " 1   Age                           70946 non-null  object\n",
      " 2   Gender                        70853 non-null  object\n",
      " 3   EdLevel                       71571 non-null  object\n",
      " 4   CodingActivities              58899 non-null  object\n",
      " 5   YearsCode                     71331 non-null  object\n",
      " 6   YearsCodePro                  51833 non-null  object\n",
      " 7   LanguageHaveWorkedWith        70975 non-null  object\n",
      " 8   LanguageWantToWorkWith        67027 non-null  object\n",
      " 9   DatabaseHaveWorkedWith        60121 non-null  object\n",
      " 10  DatabaseWantToWorkWith        51014 non-null  object\n",
      " 11  PlatformHaveWorkedWith        49924 non-null  object\n",
      " 12  PlatformWantToWorkWith        40415 non-null  object\n",
      " 13  WebframeHaveWorkedWith        53544 non-null  object\n",
      " 14  WebframeWantToWorkWith        46122 non-null  object\n",
      " 15  NEWCollabToolsHaveWorkedWith  70347 non-null  object\n",
      " 16  NEWCollabToolsWantToWorkWith  64108 non-null  object\n",
      " 17  Employment                    71709 non-null  object\n",
      " 18  RemoteWork                    58958 non-null  object\n",
      " 19  DevType                       61302 non-null  object\n",
      " 20  OrgSize                       51039 non-null  object\n",
      "dtypes: object(21)\n",
      "memory usage: 11.7+ MB\n"
     ]
    }
   ],
   "source": [
    "survey_df.info()"
   ]
  },
  {
   "cell_type": "code",
   "execution_count": null,
   "id": "25aabf79",
   "metadata": {},
   "outputs": [],
   "source": []
  }
 ],
 "metadata": {
  "kernelspec": {
   "display_name": "Python 3 (ipykernel)",
   "language": "python",
   "name": "python3"
  },
  "language_info": {
   "codemirror_mode": {
    "name": "ipython",
    "version": 3
   },
   "file_extension": ".py",
   "mimetype": "text/x-python",
   "name": "python",
   "nbconvert_exporter": "python",
   "pygments_lexer": "ipython3",
   "version": "3.9.12"
  }
 },
 "nbformat": 4,
 "nbformat_minor": 5
}
